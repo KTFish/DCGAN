{
 "cells": [
  {
   "cell_type": "markdown",
   "metadata": {},
   "source": [
    "# My first DCGAN 🌱\n",
    "- DCGAN [paper](https://arxiv.org/abs/1511.06434)\n",
    "\n",
    "<div>\n",
    "<img src = \"layers.png\" width=800>\n",
    "</div>"
   ]
  },
  {
   "cell_type": "code",
   "execution_count": null,
   "metadata": {},
   "outputs": [],
   "source": [
    "import torch\n",
    "from torch import nn\n",
    "\n",
    "class Discriminator(nn.Module):\n",
    "    def __init__(self, img_channels, features_d) -> None:\n",
    "        super(Discriminator, self).__init__()\n",
    "\n",
    "    def _block(self, in_channels, out_channels, kernel__size, stride, padding):\n",
    "        return nn.Sequential(\n",
    "            nn.Conv2d(in_channels, out_channels, kernel__size, stride, padding, bias=False),\n",
    "            \n",
    "            )"
   ]
  },
  {
   "cell_type": "code",
   "execution_count": null,
   "metadata": {},
   "outputs": [],
   "source": []
  }
 ],
 "metadata": {
  "kernelspec": {
   "display_name": "gans",
   "language": "python",
   "name": "python3"
  },
  "language_info": {
   "name": "python",
   "version": "3.11.4"
  },
  "orig_nbformat": 4
 },
 "nbformat": 4,
 "nbformat_minor": 2
}
